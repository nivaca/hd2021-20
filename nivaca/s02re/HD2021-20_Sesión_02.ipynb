{
 "cells": [
  {
   "cell_type": "markdown",
   "id": "b5cf1cbd",
   "metadata": {},
   "source": [
    "# Herramientas digitales (2021-20)\n",
    "## Introducción a las expresiones regulares (con Python)\n",
    "Nicolás Vaughan\n",
    "\n",
    "n.vaughan@uniandes.edu.co\n",
    "\n",
    "https://github.com/nivaca"
   ]
  },
  {
   "cell_type": "markdown",
   "id": "57097685",
   "metadata": {},
   "source": [
    "## Empecemos\n",
    "\n",
    "Descarguen los siguientes archivos en su computador (en una carpeta a la que accedan fácilmente desde el terminal):\n",
    "- [htmlamd.py](https://raw.githubusercontent.com/nivaca/hd2021-20/main/nivaca/s02re/htmlamd.py)\n",
    "- [cortes.xhtml](https://raw.githubusercontent.com/nivaca/hd2021-20/main/nivaca/s02re/cortes.xhtml)\n",
    "\n",
    "Abránlos ambos en VS Code"
   ]
  },
  {
   "cell_type": "markdown",
   "id": "a0c1659d",
   "metadata": {},
   "source": []
  },
  {
   "cell_type": "markdown",
   "id": "39fbcaa6",
   "metadata": {},
   "source": []
  },
  {
   "cell_type": "markdown",
   "id": "cff1b290",
   "metadata": {},
   "source": [
    "## Tarea\n",
    "- Crear las expresiones regulares (usando el script de Python estudiado) para cambiar de xHTML a Markdown [este artículo](https://raw.githubusercontent.com/nivaca/hd2021-20/main/nivaca/s02re/Pilshchikov.xhtml).\n",
    "- Deben transformar al menos lo siguiente:\n",
    "    - título\n",
    "    - autor\n",
    "    - datos de la revista\n",
    "    - párrafos (deben quedar separados, como lo requiere Markdown)\n",
    "    - listas numeradas y no numeradas (viñetas)\n",
    "    - texto con formato (cursivas, negritas, etc.)\n",
    "    - citaciones (blockquote)\n",
    "    - la bibliografía del final (usen una lista no numerada)\n",
    "- Deben entregar únicamente el script, que deberá quedar en su carpeta personal en el repositorio del curso, en una carpeta llamada `tarea01`. El nombre del script debe ser: `Tarea01_Apellido_Nombre.py`.\n",
    "- Plazo de entrega: **viernes 15 de octubre, 5:00pm**. Después de ese momento no recibiré trabajos."
   ]
  },
  {
   "cell_type": "markdown",
   "id": "928da1d8",
   "metadata": {},
   "source": [
    "##  Algunos recursos que pueden consultar\n",
    "\n",
    "### Python\n",
    "-  [Python Regular expression operations](https://docs.python.org/3/library/re.html)\n",
    "-  [Python Regular Expression HOWTO](https://docs.python.org/3/howto/regex.html)\n",
    "\n",
    "## Markdown\n",
    "- [Markdown Syntax](https://daringfireball.net/projects/markdown/syntax)\n",
    "- [Sintaxis de Markdown (español)](https://markdown.es/sintaxis-markdown/)"
   ]
  },
  {
   "cell_type": "code",
   "execution_count": null,
   "id": "73d12fd9",
   "metadata": {},
   "outputs": [],
   "source": []
  }
 ],
 "metadata": {
  "kernelspec": {
   "display_name": "Python 3",
   "language": "python",
   "name": "python3"
  },
  "language_info": {
   "codemirror_mode": {
    "name": "ipython",
    "version": 3
   },
   "file_extension": ".py",
   "mimetype": "text/x-python",
   "name": "python",
   "nbconvert_exporter": "python",
   "pygments_lexer": "ipython3",
   "version": "3.9.7"
  }
 },
 "nbformat": 4,
 "nbformat_minor": 5
}
