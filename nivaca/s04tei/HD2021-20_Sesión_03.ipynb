{
 "cells": [
  {
   "cell_type": "markdown",
   "id": "b5cf1cbd",
   "metadata": {},
   "source": [
    "# Herramientas digitales (2021-20)\n",
    "\n",
    "## Introducción a TEI\n",
    "\n",
    "Nicolás Vaughan\n",
    "\n",
    "n.vaughan@uniandes.edu.co\n",
    "\n",
    "https://github.com/nivaca"
   ]
  },
  {
   "cell_type": "markdown",
   "id": "c335ff9f",
   "metadata": {},
   "source": [
    "Vamos a codificar la carta Frida Kahlo a Alejandro Gómez Arias, [aquí](https://artsandculture.google.com/asset/carta-de-frida-kahlo-a-alejandro-g%C3%B3mez-arias-21-de-agosto-de-1926/qwEa2eAqgaAirA?hl=es-419)."
   ]
  },
  {
   "cell_type": "markdown",
   "id": "b2fab692",
   "metadata": {},
   "source": [
    "En Oxygen XML Editor (el del ícono azul) creen un documento TEI P5 nuevo:\n",
    "![oxygen](oxygen01.png)"
   ]
  },
  {
   "cell_type": "markdown",
   "id": "0364a7ea",
   "metadata": {},
   "source": [
    "# Tarea\n",
    "- Codifiquen en TEI, teniendo en cuenta los estándares de la versión [P5](https://tei-c.org/guidelines/p5/), la segunda página (manuscrita) del texto *La pájara en el ojo ajeno* de Alejandra Pizarnik (abajo a la derecha) [aquí](https://cvc.cervantes.es/literatura/libros_cortazar/libros_firmados04.htm).\n",
    "- Asegúrense de que el documento sea válido (con las herramienta de validación de Oxygen XML).\n",
    "- Entreguen únicamente documento TEI, que deberá quedar en su carpeta personal en el repositorio del curso, en una carpeta llamada `tarea02`. El nombre del documento debe ser: `Tarea02_Apellido_Nombre.xml`.\n",
    "- Plazo de entrega: **viernes 29 de octubre, 5:00pm**. Después de ese momento no recibiré trabajos."
   ]
  }
 ],
 "metadata": {
  "kernelspec": {
   "display_name": "Python 3",
   "language": "python",
   "name": "python3"
  },
  "language_info": {
   "codemirror_mode": {
    "name": "ipython",
    "version": 3
   },
   "file_extension": ".py",
   "mimetype": "text/x-python",
   "name": "python",
   "nbconvert_exporter": "python",
   "pygments_lexer": "ipython3",
   "version": "3.9.7"
  }
 },
 "nbformat": 4,
 "nbformat_minor": 5
}
