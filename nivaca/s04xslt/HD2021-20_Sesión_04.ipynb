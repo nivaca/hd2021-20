{
 "cells": [
  {
   "cell_type": "markdown",
   "id": "b5cf1cbd",
   "metadata": {},
   "source": [
    "# Herramientas digitales (2021-20)\n",
    "\n",
    "## Introducción a XPath y XSLT\n",
    "\n",
    "Nicolás Vaughan\n",
    "\n",
    "n.vaughan@uniandes.edu.co\n",
    "\n",
    "https://github.com/nivaca"
   ]
  },
  {
   "cell_type": "markdown",
   "id": "383cd3ab",
   "metadata": {},
   "source": [
    "# Instrucciones\n",
    "\n",
    "- Vamos crear un *stylesheet* de XSLT para transformar un documento TEI en un documento de Markdown.\n",
    "\n",
    "- Descarguen la [plantilla XSLT](https://raw.githubusercontent.com/nivaca/hd2021-20/main/nivaca/s04xslt/plantilla.xsl) y ábranla en OxygenXML.\n",
    "\n",
    "- Descarguen el artículo [*Why Women Desire the Franchise*](https://raw.githubusercontent.com/nivaca/hd2021-20/main/nivaca/s04xslt/WhyWomenDesiretheFranchise.xml) y ábranlo en OxygenXML.\n"
   ]
  },
  {
   "cell_type": "markdown",
   "id": "37f2164c",
   "metadata": {},
   "source": [
    "## Conclusión\n",
    "\n",
    "[Aquí]() pueden ver el resultado de la codificación hecha en clase."
   ]
  },
  {
   "cell_type": "markdown",
   "id": "3e11b3a9",
   "metadata": {},
   "source": [
    "# Tarea\n",
    "- Creen una *stylesheet* XSLT para transformar el documento TEI de la dedicatoria de Alejandra Pizarnik en un documento Markdown.\n",
    "- Partan de la misma plantilla que usamos en clase.\n",
    "- Usen exclusivamente [esta versión](https://raw.githubusercontent.com/nivaca/hd2021-20/main/nivaca/s04xslt/Pizarnik.xml) del TEI de Pizarnik.\n",
    "- Asegúrense la *stylesheet* de XSLT sea válida (con las herramienta de validación de Oxygen XML).\n",
    "- Entreguen únicamente la *stylesheet* de XSLT, que deberá quedar en su carpeta personal en el repositorio del curso, en una carpeta llamada `tarea03`. El nombre del documento debe ser: `Tarea03_Apellido_Nombre.xsl`.\n",
    "- Plazo de entrega: **viernes 5 de noviembre, 5:00pm**. Después de ese momento no recibiré trabajos."
   ]
  },
  {
   "cell_type": "code",
   "execution_count": null,
   "id": "3aa456bf",
   "metadata": {},
   "outputs": [],
   "source": []
  }
 ],
 "metadata": {
  "kernelspec": {
   "display_name": "Python 3",
   "language": "python",
   "name": "python3"
  },
  "language_info": {
   "codemirror_mode": {
    "name": "ipython",
    "version": 3
   },
   "file_extension": ".py",
   "mimetype": "text/x-python",
   "name": "python",
   "nbconvert_exporter": "python",
   "pygments_lexer": "ipython3",
   "version": "3.9.7"
  }
 },
 "nbformat": 4,
 "nbformat_minor": 5
}
